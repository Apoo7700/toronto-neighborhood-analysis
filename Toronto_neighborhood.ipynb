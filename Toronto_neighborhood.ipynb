{
    "cells": [
        {
            "metadata": {},
            "cell_type": "code",
            "source": "!conda install -c anaconda beautifulsoup4",
            "execution_count": 1,
            "outputs": [
                {
                    "output_type": "stream",
                    "text": "Solving environment: done\n\n## Package Plan ##\n\n  environment location: /opt/conda/envs/Python36\n\n  added / updated specs: \n    - beautifulsoup4\n\n\nThe following packages will be downloaded:\n\n    package                    |            build\n    ---------------------------|-----------------\n    beautifulsoup4-4.8.2       |           py36_0         161 KB  anaconda\n    ca-certificates-2020.1.1   |                0         132 KB  anaconda\n    certifi-2019.11.28         |           py36_0         156 KB  anaconda\n    openssl-1.1.1              |       h7b6447c_0         5.0 MB  anaconda\n    ------------------------------------------------------------\n                                           Total:         5.5 MB\n\nThe following packages will be UPDATED:\n\n    beautifulsoup4:  4.7.1-py36_1      --> 4.8.2-py36_0      anaconda\n    ca-certificates: 2019.11.27-0      --> 2020.1.1-0        anaconda\n    certifi:         2019.11.28-py36_0 --> 2019.11.28-py36_0 anaconda\n    openssl:         1.1.1d-h7b6447c_3 --> 1.1.1-h7b6447c_0  anaconda\n\n\nDownloading and Extracting Packages\nbeautifulsoup4-4.8.2 | 161 KB    | ##################################### | 100% \nca-certificates-2020 | 132 KB    | ##################################### | 100% \ncertifi-2019.11.28   | 156 KB    | ##################################### | 100% \nopenssl-1.1.1        | 5.0 MB    | ##################################### | 100% \nPreparing transaction: done\nVerifying transaction: done\nExecuting transaction: done\n",
                    "name": "stdout"
                }
            ]
        },
        {
            "metadata": {},
            "cell_type": "code",
            "source": "from bs4 import BeautifulSoup",
            "execution_count": 2,
            "outputs": []
        },
        {
            "metadata": {},
            "cell_type": "code",
            "source": "!conda install -c anaconda lxml",
            "execution_count": 4,
            "outputs": [
                {
                    "output_type": "stream",
                    "text": "Solving environment: done\n\n## Package Plan ##\n\n  environment location: /opt/conda/envs/Python36\n\n  added / updated specs: \n    - lxml\n\n\nThe following packages will be downloaded:\n\n    package                    |            build\n    ---------------------------|-----------------\n    lxml-4.5.0                 |   py36hefd8a0e_0         1.6 MB  anaconda\n\nThe following packages will be UPDATED:\n\n    lxml: 4.3.1-py36hefd8a0e_0 --> 4.5.0-py36hefd8a0e_0 anaconda\n\n\nDownloading and Extracting Packages\nlxml-4.5.0           | 1.6 MB    | ##################################### | 100% \nPreparing transaction: done\nVerifying transaction: done\nExecuting transaction: done\n",
                    "name": "stdout"
                }
            ]
        },
        {
            "metadata": {},
            "cell_type": "code",
            "source": "import requests",
            "execution_count": 5,
            "outputs": []
        },
        {
            "metadata": {},
            "cell_type": "code",
            "source": "",
            "execution_count": null,
            "outputs": []
        }
    ],
    "metadata": {
        "kernelspec": {
            "name": "python3",
            "display_name": "Python 3.6",
            "language": "python"
        },
        "language_info": {
            "name": "python",
            "version": "3.6.9",
            "mimetype": "text/x-python",
            "codemirror_mode": {
                "name": "ipython",
                "version": 3
            },
            "pygments_lexer": "ipython3",
            "nbconvert_exporter": "python",
            "file_extension": ".py"
        }
    },
    "nbformat": 4,
    "nbformat_minor": 1
}